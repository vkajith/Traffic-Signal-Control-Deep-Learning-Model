{
 "cells": [
  {
   "cell_type": "code",
   "execution_count": null,
   "metadata": {},
   "outputs": [],
   "source": [
    "from __future__ import absolute_import\n",
    "from __future__ import print_function\n",
    "\n",
    "import os\n",
    "import datetime\n",
    "from shutil import copyfile\n",
    "\n",
    "from training_simulation import Simulation\n",
    "from generator import TrafficGenerator\n",
    "from memory import Memory\n",
    "from model import TrainModel\n",
    "from visualization import Visualization\n",
    "from utils import import_train_configuration, set_sumo, set_train_path\n",
    "  "
   ]
  },
  {
   "cell_type": "code",
   "execution_count": null,
   "metadata": {},
   "outputs": [],
   "source": [
    "config = import_train_configuration(config_file='training_settings.ini')\n",
    "sumo_cmd = set_sumo(config['gui'], config['sumocfg_file_name'], config['max_steps'])\n",
    "path = set_train_path(config['models_path_name'])\n",
    "\n",
    "Model = TrainModel(\n",
    "    config['num_layers'], \n",
    "    config['width_layers'], \n",
    "    config['batch_size'], \n",
    "    config['learning_rate'], \n",
    "    input_dim=config['num_states'], \n",
    "    output_dim=config['num_actions']\n",
    ")\n",
    "\n",
    "Memory = Memory(\n",
    "    config['memory_size_max'], \n",
    "    config['memory_size_min']\n",
    ")\n",
    "\n",
    "TrafficGen = TrafficGenerator(\n",
    "    config['max_steps'], \n",
    "    config['n_cars_generated']\n",
    ")\n",
    "\n",
    "Visualization = Visualization(\n",
    "    path, \n",
    "    dpi=96\n",
    ")\n",
    "        \n",
    "Simulation = Simulation(\n",
    "    Model,\n",
    "    Memory,\n",
    "    TrafficGen,\n",
    "    sumo_cmd,\n",
    "    config['gamma'],\n",
    "    config['max_steps'],\n",
    "    config['green_duration'],\n",
    "    config['yellow_duration'],\n",
    "    config['num_states'],\n",
    "    config['num_actions'],\n",
    "    config['training_epochs']\n",
    ")\n",
    "    \n",
    "episode = 0\n",
    "timestamp_start = datetime.datetime.now()\n",
    "    \n",
    "while episode < config['total_episodes']:\n",
    "    print('\\n----- Episode', str(episode+1), 'of', str(config['total_episodes']))\n",
    "    epsilon = 1.0 - (episode / config['total_episodes'])  # set the epsilon for this episode according to epsilon-greedy policy\n",
    "    simulation_time, training_time = Simulation.run(episode, epsilon)  # run the simulation\n",
    "    print('Simulation time:', simulation_time, 's - Training time:', training_time, 's - Total:', round(simulation_time+training_time, 1), 's')\n",
    "    episode += 1\n",
    "\n",
    "print(\"\\n----- Start time:\", timestamp_start)\n",
    "print(\"----- End time:\", datetime.datetime.now())\n",
    "print(\"----- Session info saved at:\", path)"
   ]
  },
  {
   "cell_type": "code",
   "execution_count": null,
   "metadata": {},
   "outputs": [],
   "source": [
    "Model.save_model(path)\n",
    "\n",
    "copyfile(src='training_settings.ini', dst=os.path.join(path, 'training_settings.ini'))"
   ]
  },
  {
   "cell_type": "code",
   "execution_count": null,
   "metadata": {},
   "outputs": [],
   "source": [
    "Visualization.save_data_and_plot(data=Simulation.reward_store, filename='reward', xlabel='Episode', ylabel='Cumulative negative reward')\n",
    "Visualization.save_data_and_plot(data=Simulation.cumulative_wait_store, filename='delay', xlabel='Episode', ylabel='Cumulative delay (s)')\n",
    "Visualization.save_data_and_plot(data=Simulation.avg_queue_length_store, filename='queue', xlabel='Episode', ylabel='Average queue length (vehicles)')"
   ]
  }
 ],
 "metadata": {
  "kernelspec": {
   "display_name": "Python 3",
   "language": "python",
   "name": "python3"
  },
  "language_info": {
   "codemirror_mode": {
    "name": "ipython",
    "version": 3
   },
   "file_extension": ".py",
   "mimetype": "text/x-python",
   "name": "python",
   "nbconvert_exporter": "python",
   "pygments_lexer": "ipython3",
   "version": "3.7.6"
  }
 },
 "nbformat": 4,
 "nbformat_minor": 4
}
