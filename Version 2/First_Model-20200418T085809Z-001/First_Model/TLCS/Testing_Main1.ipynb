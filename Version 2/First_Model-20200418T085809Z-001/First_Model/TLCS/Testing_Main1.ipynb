{
 "cells": [
  {
   "cell_type": "code",
   "execution_count": 1,
   "metadata": {},
   "outputs": [],
   "source": [
    "from __future__ import absolute_import\n",
    "from __future__ import print_function\n",
    "\n",
    "import os\n",
    "from shutil import copyfile\n",
    "\n",
    "from testing_simulation_prev import Simulation as Simprev"
   ]
  },
  {
   "cell_type": "code",
   "execution_count": 3,
   "metadata": {},
   "outputs": [],
   "source": [
    "from testing_simulation import Simulation\n",
    "\n",
    "from generator import TrafficGenerator\n",
    "from model import TestModel\n",
    "from visualization import Visualization\n",
    "from utils import import_test_configuration, set_sumo, set_test_path\n"
   ]
  },
  {
   "cell_type": "code",
   "execution_count": 4,
   "metadata": {},
   "outputs": [],
   "source": [
    "config = import_test_configuration(config_file='testing_settings.ini')\n",
    "sumo_cmd = set_sumo(config['gui'], config['sumocfg_file_name'], config['max_steps'])\n",
    "model_path, plot_path = set_test_path(config['models_path_name'], config['model_to_test'])\n",
    "prev_model_path, prev_model_plot = set_test_path(config['prevmodel_path_name'], config['prevmodel_no'])\n",
    "\n",
    "Model = TestModel(\n",
    "    input_dim=config['num_states'],\n",
    "    model_path=model_path\n",
    ")\n",
    "\n",
    "Model2 = TestModel(\n",
    "    input_dim= config['num_states'],\n",
    "    model_path= prev_model_path\n",
    ")\n",
    "   \n"
   ]
  },
  {
   "cell_type": "code",
   "execution_count": 5,
   "metadata": {},
   "outputs": [],
   "source": [
    "\n",
    "TrafficGen = TrafficGenerator(\n",
    "    config['max_steps'], \n",
    "    config['n_cars_generated']\n",
    ")\n",
    "\n",
    "Visualization = Visualization(\n",
    "    plot_path, \n",
    "    dpi=96\n",
    ")"
   ]
  },
  {
   "cell_type": "code",
   "execution_count": 6,
   "metadata": {},
   "outputs": [],
   "source": [
    "Simulation = Simulation(\n",
    "    Model,\n",
    "    TrafficGen,\n",
    "    sumo_cmd,\n",
    "    config['max_steps'],\n",
    "    config['green_duration'],\n",
    "    config['yellow_duration'],\n",
    "    config['num_states'],\n",
    "    config['num_actions']\n",
    ")\n"
   ]
  },
  {
   "cell_type": "code",
   "execution_count": 7,
   "metadata": {},
   "outputs": [
    {
     "name": "stdout",
     "output_type": "stream",
     "text": [
      "\n",
      "----- Test episode\n",
      " Retrying in 1 seconds\n",
      "Simulating...\n",
      "Simulation time: 32.4 s\n",
      " Retrying in 1 seconds\n",
      "Simulating...\n",
      "----- Testing info saved at: /home/vysyakh/Downloads/new model/First_Model-20200418T085809Z-001/First_Model/TLCS/models/model_16/test/\n"
     ]
    },
    {
     "data": {
      "text/plain": [
       "'/home/vysyakh/Downloads/new model/First_Model-20200418T085809Z-001/First_Model/TLCS/models/model_16/test/testing_settings.ini'"
      ]
     },
     "execution_count": 7,
     "metadata": {},
     "output_type": "execute_result"
    }
   ],
   "source": [
    "\n",
    "    print('\\n----- Test episode')\n",
    "    simulation_time = Simulation.run(config['episode_seed'])  # run the simulation\n",
    "    print('Simulation time:', simulation_time, 's')\n",
    "    Simulation.run_c(config['episode_seed'])\n",
    "\n",
    "    print(\"----- Testing info saved at:\", plot_path)\n",
    "\n",
    "    copyfile(src='testing_settings.ini', dst=os.path.join(plot_path, 'testing_settings.ini'))\n",
    "\n",
    "   "
   ]
  },
  {
   "cell_type": "code",
   "execution_count": 8,
   "metadata": {},
   "outputs": [],
   "source": [
    "Simulation2=Simprev(\n",
    "    Model2,\n",
    "    TrafficGen,\n",
    "    sumo_cmd,\n",
    "    config['max_steps'],\n",
    "    config['green_duration'],\n",
    "    config['yellow_duration'],\n",
    "    config['num_states'],\n",
    "    4\n",
    ")\n"
   ]
  },
  {
   "cell_type": "code",
   "execution_count": 9,
   "metadata": {},
   "outputs": [
    {
     "name": "stdout",
     "output_type": "stream",
     "text": [
      "\n",
      "----- Test episode\n",
      " Retrying in 1 seconds\n",
      "Simulating...\n",
      "Simulation time: 29.9 s\n",
      " Retrying in 1 seconds\n",
      "Simulating...\n",
      "----- Testing info saved at: /home/vysyakh/Downloads/new model/First_Model-20200418T085809Z-001/First_Model/TLCS/prevmodels/model_9/test/\n"
     ]
    },
    {
     "data": {
      "text/plain": [
       "'/home/vysyakh/Downloads/new model/First_Model-20200418T085809Z-001/First_Model/TLCS/prevmodels/model_9/test/testing_settings.ini'"
      ]
     },
     "execution_count": 9,
     "metadata": {},
     "output_type": "execute_result"
    }
   ],
   "source": [
    "print('\\n----- Test episode')\n",
    "simulation_time = Simulation2.run(config['episode_seed'])  # run the simulation\n",
    "print('Simulation time:', simulation_time, 's')\n",
    "Simulation2.run_c(config['episode_seed'])\n",
    "\n",
    "print(\"----- Testing info saved at:\", prev_model_plot)\n",
    "\n",
    "copyfile(src='testing_settings.ini', dst=os.path.join(prev_model_plot, 'testing_settings.ini'))\n"
   ]
  },
  {
   "cell_type": "code",
   "execution_count": 11,
   "metadata": {},
   "outputs": [],
   "source": [
    "Visualization.save_data_and_plot(data=Simulation.reward_episode, filename='reward', xlabel='Action step', ylabel='Reward')\n",
    "Visualization.save_data_and_plot_2(data1=Simulation.sum_waiting_times, data2 = Simulation2.sum_waiting_times, filename = 'wait_time', xlabel = 'Step', ylabel = 'Accumulated Wait Time (Vehicles)')\n",
    "Visualization.save_data_and_plot_3(data1=Simulation.sum_waiting_times, data2 = Simulation2.sum_waiting_times_c, data3 = Simulation2.sum_waiting_times, filename = 'wait_time_2', xlabel = 'Step', ylabel = 'Accumulated Wait Time (Vehicles)')\n"
   ]
  },
  {
   "cell_type": "code",
   "execution_count": 19,
   "metadata": {},
   "outputs": [],
   "source": [
    "import csv"
   ]
  },
  {
   "cell_type": "code",
   "execution_count": 29,
   "metadata": {},
   "outputs": [],
   "source": [
    "outfile = open('fin_ids.csv','w')\n",
    "out = csv.writer(outfile)\n",
    "out.writerows(map(lambda x: [x],Simulation.sum_waiting_times_c))\n",
    "outfile.close()"
   ]
  }
 ],
 "metadata": {
  "kernelspec": {
   "display_name": "Python 3",
   "language": "python",
   "name": "python3"
  },
  "language_info": {
   "codemirror_mode": {
    "name": "ipython",
    "version": 3
   },
   "file_extension": ".py",
   "mimetype": "text/x-python",
   "name": "python",
   "nbconvert_exporter": "python",
   "pygments_lexer": "ipython3",
   "version": "3.7.6"
  }
 },
 "nbformat": 4,
 "nbformat_minor": 4
}
