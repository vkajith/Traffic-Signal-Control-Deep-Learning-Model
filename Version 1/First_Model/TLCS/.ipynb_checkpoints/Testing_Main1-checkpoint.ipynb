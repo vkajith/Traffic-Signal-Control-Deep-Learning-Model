{
 "cells": [
  {
   "cell_type": "code",
   "execution_count": 1,
   "metadata": {},
   "outputs": [],
   "source": [
    "from __future__ import absolute_import\n",
    "from __future__ import print_function\n",
    "\n",
    "import os\n",
    "from shutil import copyfile\n",
    "\n"
   ]
  },
  {
   "cell_type": "code",
   "execution_count": 2,
   "metadata": {},
   "outputs": [],
   "source": [
    "from testing_simulation import Simulation\n",
    "from generator import TrafficGenerator\n",
    "from model import TestModel\n",
    "from visualization import Visualization\n",
    "from utils import import_test_configuration, set_sumo, set_test_path\n"
   ]
  },
  {
   "cell_type": "code",
   "execution_count": 3,
   "metadata": {},
   "outputs": [],
   "source": [
    "config = import_test_configuration(config_file='testing_settings.ini')\n",
    "sumo_cmd = set_sumo(config['gui'], config['sumocfg_file_name'], config['max_steps'])\n",
    "model_path, plot_path = set_test_path(config['models_path_name'], config['model_to_test'])\n",
    "\n",
    "Model = TestModel(\n",
    "    input_dim=config['num_states'],\n",
    "    model_path=model_path\n",
    ")\n",
    "\n",
    "TrafficGen = TrafficGenerator(\n",
    "    config['max_steps'], \n",
    "    config['n_cars_generated']\n",
    ")\n",
    "\n",
    "Visualization = Visualization(\n",
    "    plot_path, \n",
    "    dpi=96\n",
    ")\n",
    "        \n",
    "Simulation = Simulation(\n",
    "    Model,\n",
    "    TrafficGen,\n",
    "    sumo_cmd,\n",
    "    config['max_steps'],\n",
    "    config['green_duration'],\n",
    "    config['yellow_duration'],\n",
    "    config['num_states'],\n",
    "    config['num_actions']\n",
    ")\n"
   ]
  },
  {
   "cell_type": "code",
   "execution_count": 5,
   "metadata": {},
   "outputs": [
    {
     "name": "stdout",
     "output_type": "stream",
     "text": [
      "\n",
      "----- Test episode\n",
      "Could not connect to TraCI server at localhost:47027 [Errno 111] Connection refused\n",
      " Retrying in 1 seconds\n",
      "Simulating...\n",
      "Simulation time: 38.4 s\n",
      "Could not connect to TraCI server at localhost:46525 [Errno 111] Connection refused\n",
      " Retrying in 1 seconds\n",
      "Simulating...\n",
      "----- Testing info saved at: /home/aquib/Work/SOP/First_Model/TLCS/models/model_9/test/\n"
     ]
    }
   ],
   "source": [
    "\n",
    "    print('\\n----- Test episode')\n",
    "    simulation_time = Simulation.run(config['episode_seed'])  # run the simulation\n",
    "    print('Simulation time:', simulation_time, 's')\n",
    "    Simulation.run_c(config['episode_seed'])\n",
    "\n",
    "    print(\"----- Testing info saved at:\", plot_path)\n",
    "\n",
    "    copyfile(src='testing_settings.ini', dst=os.path.join(plot_path, 'testing_settings.ini'))\n",
    "\n",
    "    Visualization.save_data_and_plot(data=Simulation.reward_episode, filename='reward', xlabel='Action step', ylabel='Reward')\n",
    "    Visualization.save_data_and_plot_2(data1=Simulation.sum_waiting_times, data2 = Simulation.sum_waiting_times_c filename = 'wait_time', xlabel = 'Step', ylabel = 'Accumulated Wait Time (Vehicles)')"
   ]
  }
 ],
 "metadata": {
  "kernelspec": {
   "display_name": "Python 3",
   "language": "python",
   "name": "python3"
  },
  "language_info": {
   "codemirror_mode": {
    "name": "ipython",
    "version": 3
   },
   "file_extension": ".py",
   "mimetype": "text/x-python",
   "name": "python",
   "nbconvert_exporter": "python",
   "pygments_lexer": "ipython3",
   "version": "3.7.6"
  }
 },
 "nbformat": 4,
 "nbformat_minor": 4
}
