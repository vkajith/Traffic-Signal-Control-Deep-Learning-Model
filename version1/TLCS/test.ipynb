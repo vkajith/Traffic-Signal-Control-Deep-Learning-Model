{
 "cells": [
  {
   "cell_type": "code",
   "execution_count": 2,
   "metadata": {},
   "outputs": [],
   "source": [
    "import os, sys\n",
    "if 'SUMO_HOME' in os.environ:\n",
    "    tools = os.path.join(os.environ['SUMO_HOME'], 'tools')\n",
    "    sys.path.append(tools)\n",
    "else:\n",
    "    sys.exit(\"please declare environment variable 'SUMO_HOME'\")\n",
    "\n",
    "import traci\n",
    "import numpy as np\n",
    "import random\n",
    "import timeit"
   ]
  },
  {
   "cell_type": "code",
   "execution_count": 3,
   "metadata": {},
   "outputs": [],
   "source": [
    "\n",
    "import os\n",
    "import datetime\n",
    "from shutil import copyfile\n",
    "\n",
    "from training_simulation import Simulation\n",
    "from generator import TrafficGenerator\n",
    "from memory import Memory\n",
    "from model import TrainModel\n",
    "from visualization import Visualization\n",
    "from utils import import_train_configuration, set_sumo, set_train_path"
   ]
  },
  {
   "cell_type": "code",
   "execution_count": 5,
   "metadata": {},
   "outputs": [],
   "source": [
    "config = import_train_configuration(config_file='training_settings.ini')\n",
    "sumo_cmd = set_sumo(config['gui'], config['sumocfg_file_name'], config['max_steps'])"
   ]
  },
  {
   "cell_type": "code",
   "execution_count": 6,
   "metadata": {},
   "outputs": [
    {
     "name": "stdout",
     "output_type": "stream",
     "text": [
      "Could not connect to TraCI server at localhost:57213 [Errno 111] Connection refused\n",
      " Retrying in 1 seconds\n"
     ]
    },
    {
     "data": {
      "text/plain": [
       "(17, 'SUMO 0.32.0')"
      ]
     },
     "execution_count": 6,
     "metadata": {},
     "output_type": "execute_result"
    }
   ],
   "source": [
    "traci.start(sumo_cmd)"
   ]
  },
  {
   "cell_type": "code",
   "execution_count": 45,
   "metadata": {},
   "outputs": [],
   "source": [
    "no = [];\n",
    "lane_id = traci.lane.getIDList()\n",
    "lane_group = np.zeros(8)"
   ]
  },
  {
   "cell_type": "code",
   "execution_count": 61,
   "metadata": {},
   "outputs": [],
   "source": [
    "lane_group[0] = traci.lane.getLastStepVehicleNumber('W2TL_0') + \\\n",
    "                traci.lane.getLastStepVehicleNumber('W2TL_1') + \\\n",
    "                traci.lane.getLastStepVehicleNumber('W2TL_2')\n",
    "lane_group[1] = traci.lane.getLastStepVehicleNumber('W2TL_3')\n",
    "lane_group[2] = traci.lane.getLastStepVehicleNumber('N2TL_0') + \\\n",
    "                traci.lane.getLastStepVehicleNumber('N2TL_1') + \\\n",
    "                traci.lane.getLastStepVehicleNumber('N2TL_2')\n",
    "lane_group[3] = traci.lane.getLastStepVehicleNumber('N2TL_3')\n",
    "lane_group[4] = traci.lane.getLastStepVehicleNumber('E2TL_0') + \\\n",
    "                traci.lane.getLastStepVehicleNumber('E2TL_1') + \\\n",
    "                traci.lane.getLastStepVehicleNumber('E2TL_2')\n",
    "lane_group[5] = traci.lane.getLastStepVehicleNumber('E2TL_3')\n",
    "lane_group[6] = traci.lane.getLastStepVehicleNumber('S2TL_0') + \\\n",
    "                traci.lane.getLastStepVehicleNumber('S2TL_1') + \\\n",
    "                traci.lane.getLastStepVehicleNumber('S2TL_2') \n",
    "lane_group[7] = traci.lane.getLastStepVehicleNumber('S2TL_3') "
   ]
  },
  {
   "cell_type": "code",
   "execution_count": 63,
   "metadata": {},
   "outputs": [],
   "source": [
    "traci.close()"
   ]
  },
  {
   "cell_type": "code",
   "execution_count": 62,
   "metadata": {},
   "outputs": [
    {
     "data": {
      "text/plain": [
       "array([10.,  1., 31.,  2., 14.,  0., 21.,  4.])"
      ]
     },
     "execution_count": 62,
     "metadata": {},
     "output_type": "execute_result"
    }
   ],
   "source": [
    "lane_group"
   ]
  },
  {
   "cell_type": "code",
   "execution_count": 60,
   "metadata": {},
   "outputs": [],
   "source": [
    "for i in range(0, 100):\n",
    "    traci.simulationStep();"
   ]
  }
 ],
 "metadata": {
  "kernelspec": {
   "display_name": "Python 3",
   "language": "python",
   "name": "python3"
  },
  "language_info": {
   "codemirror_mode": {
    "name": "ipython",
    "version": 3
   },
   "file_extension": ".py",
   "mimetype": "text/x-python",
   "name": "python",
   "nbconvert_exporter": "python",
   "pygments_lexer": "ipython3",
   "version": "3.7.6"
  }
 },
 "nbformat": 4,
 "nbformat_minor": 4
}
